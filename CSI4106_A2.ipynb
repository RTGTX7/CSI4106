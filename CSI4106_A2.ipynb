{
  "nbformat": 4,
  "nbformat_minor": 0,
  "metadata": {
    "colab": {
      "provenance": [],
      "include_colab_link": true
    },
    "kernelspec": {
      "name": "python3",
      "display_name": "Python 3"
    },
    "language_info": {
      "name": "python"
    }
  },
  "cells": [
    {
      "cell_type": "markdown",
      "metadata": {
        "id": "view-in-github",
        "colab_type": "text"
      },
      "source": [
        "<a href=\"https://colab.research.google.com/github/RTGTX7/CSI4106/blob/main/CSI4106_A2.ipynb\" target=\"_parent\"><img src=\"https://colab.research.google.com/assets/colab-badge.svg\" alt=\"Open In Colab\"/></a>"
      ]
    },
    {
      "cell_type": "markdown",
      "source": [
        "\n",
        "**ASSIGNMENT 2 - Classification Empirical Study Naïve Bayes vs Logistic Regression**"
      ],
      "metadata": {
        "id": "5PQ37Z257LlX"
      }
    },
    {
      "cell_type": "markdown",
      "source": [
        "**1. Group Description**\n",
        "\n",
        "Group Number: \\\\ 57   \n",
        "Member Names: \\\\ Yuanyao Zuo , William Wang  \n",
        "Member Student Numbers: \\\\ 300157718, 300184808"
      ],
      "metadata": {
        "id": "f2Eeke4Z_EkW"
      }
    },
    {
      "cell_type": "markdown",
      "source": [
        "**2. Familiarize yourself with the classification task and the dataset**\n",
        "\n",
        "Dataset:\n",
        "\n",
        "The Car Evaluation dataset is a classification problem where cars are categorized into various acceptability classes based on certain attributes like buying price, maintenance cost, number of doors, luggage boot size, and safety ratings. The goal is to predict a car's acceptability class based on these attributes.\n",
        "\n",
        "https://archive.ics.uci.edu/dataset/19/car+evaluation"
      ],
      "metadata": {
        "id": "2lRbrOkU9DLV"
      }
    },
    {
      "cell_type": "markdown",
      "source": [
        "**Read Dataset**\n",
        "\n",
        "Install the ucimlrepo package"
      ],
      "metadata": {
        "id": "xQULHXQWFYlB"
      }
    },
    {
      "cell_type": "code",
      "source": [
        "!pip3 install -U ucimlrepo"
      ],
      "metadata": {
        "colab": {
          "base_uri": "https://localhost:8080/"
        },
        "id": "qNhaI1JDHOtn",
        "outputId": "65bc5616-7040-448e-8c97-581cfdc11581"
      },
      "execution_count": null,
      "outputs": [
        {
          "output_type": "stream",
          "name": "stdout",
          "text": [
            "Collecting ucimlrepo\n",
            "  Downloading ucimlrepo-0.0.3-py3-none-any.whl (7.0 kB)\n",
            "Installing collected packages: ucimlrepo\n",
            "Successfully installed ucimlrepo-0.0.3\n"
          ]
        }
      ]
    },
    {
      "cell_type": "markdown",
      "source": [
        "Import the dataset into code"
      ],
      "metadata": {
        "id": "_otAf_fAIMeU"
      }
    },
    {
      "cell_type": "code",
      "source": [
        "from ucimlrepo import fetch_ucirepo\n",
        "\n",
        "# fetch dataset\n",
        "car_evaluation = fetch_ucirepo(id=19)\n",
        "\n",
        "# data (as pandas dataframes)\n",
        "X = car_evaluation.data.features\n",
        "y = car_evaluation.data.targets\n",
        "\n",
        "# metadata\n",
        "print(car_evaluation.metadata)\n",
        "\n",
        "# variable information\n",
        "print(car_evaluation.variables)\n"
      ],
      "metadata": {
        "colab": {
          "base_uri": "https://localhost:8080/"
        },
        "id": "JbnYGPnPHuSV",
        "outputId": "8e4837c9-5555-49d8-c4fa-fb76051b4f9c"
      },
      "execution_count": null,
      "outputs": [
        {
          "output_type": "stream",
          "name": "stdout",
          "text": [
            "{'uci_id': 19, 'name': 'Car Evaluation', 'repository_url': 'https://archive.ics.uci.edu/dataset/19/car+evaluation', 'data_url': 'https://archive.ics.uci.edu/static/public/19/data.csv', 'abstract': 'Derived from simple hierarchical decision model, this database may be useful for testing constructive induction and structure discovery methods.', 'area': 'Other', 'tasks': ['Classification'], 'characteristics': ['Multivariate'], 'num_instances': 1728, 'num_features': 6, 'feature_types': ['Categorical'], 'demographics': [], 'target_col': ['class'], 'index_col': None, 'has_missing_values': 'no', 'missing_values_symbol': None, 'year_of_dataset_creation': 1988, 'last_updated': 'Thu Aug 10 2023', 'dataset_doi': '10.24432/C5JP48', 'creators': ['Marko Bohanec'], 'intro_paper': {'title': 'Knowledge acquisition and explanation for multi-attribute decision making', 'authors': 'M. Bohanec, V. Rajkovič', 'published_in': '8th Intl Workshop on Expert Systems and their Applications, Avignon, France', 'year': 1988, 'url': 'https://www.semanticscholar.org/paper/KNOWLEDGE-ACQUISITION-AND-EXPLANATION-FOR-DECISION-Bohanec-Rajkovi%C4%8D/8bab443ae322ff47c3e609272bd93fd4650555bc', 'doi': None}, 'additional_info': {'summary': 'Car Evaluation Database was derived from a simple hierarchical decision model originally developed for the demonstration of DEX, M. Bohanec, V. Rajkovic: Expert system for decision making. Sistemica 1(1), pp. 145-157, 1990.). The model evaluates cars according to the following concept structure:\\r\\n\\r\\nCAR                      car acceptability\\r\\n. PRICE                  overall price\\r\\n. . buying               buying price\\r\\n. . maint                price of the maintenance\\r\\n. TECH                   technical characteristics\\r\\n. . COMFORT              comfort\\r\\n. . . doors              number of doors\\r\\n. . . persons            capacity in terms of persons to carry\\r\\n. . . lug_boot           the size of luggage boot\\r\\n. . safety               estimated safety of the car\\r\\n\\r\\nInput attributes are printed in lowercase. Besides the target concept (CAR), the model includes three intermediate concepts: PRICE, TECH, COMFORT. Every concept is in the original model related to its lower level descendants by a set of examples (for these examples sets see http://www-ai.ijs.si/BlazZupan/car.html).\\r\\n\\r\\nThe Car Evaluation Database contains examples with the structural information removed, i.e., directly relates CAR to the six input attributes: buying, maint, doors, persons, lug_boot, safety.\\r\\n\\r\\nBecause of known underlying concept structure, this database may be particularly useful for testing constructive induction and structure discovery methods.\\r\\n', 'purpose': None, 'funded_by': None, 'instances_represent': None, 'recommended_data_splits': None, 'sensitive_data': None, 'preprocessing_description': None, 'variable_info': 'buying:   vhigh, high, med, low.\\nmaint:    vhigh, high, med, low.\\ndoors:    2, 3, 4, 5more.\\npersons:  2, 4, more.\\nlug_boot: small, med, big.\\nsafety:   low, med, high.', 'citation': None}}\n",
            "       name     role         type demographic  \\\n",
            "0    buying  Feature  Categorical        None   \n",
            "1     maint  Feature  Categorical        None   \n",
            "2     doors  Feature  Categorical        None   \n",
            "3   persons  Feature  Categorical        None   \n",
            "4  lug_boot  Feature  Categorical        None   \n",
            "5    safety  Feature  Categorical        None   \n",
            "6     class   Target  Categorical        None   \n",
            "\n",
            "                                         description units missing_values  \n",
            "0                                       buying price  None             no  \n",
            "1                           price of the maintenance  None             no  \n",
            "2                                    number of doors  None             no  \n",
            "3              capacity in terms of persons to carry  None             no  \n",
            "4                           the size of luggage boot  None             no  \n",
            "5                        estimated safety of the car  None             no  \n",
            "6  evaulation level (unacceptable, acceptable, go...  None             no  \n"
          ]
        }
      ]
    },
    {
      "cell_type": "markdown",
      "source": [
        "Characterize the dataset in terms of number of training examples, number of\n",
        "features, missing data, etc."
      ],
      "metadata": {
        "id": "rt6cUJuyI2A2"
      }
    },
    {
      "cell_type": "code",
      "source": [
        "# Number of training examples (rows)\n",
        "num_examples = X.shape[0]\n",
        "\n",
        "# Number of features (columns)\n",
        "num_features = X.shape[1]\n",
        "\n",
        "# Check for missing data in X\n",
        "missing_data_X = X.isnull().sum()\n",
        "\n",
        "# If you also want to check for missing data in y (the targets), you can use:\n",
        "missing_data_y = y.isnull().sum()\n",
        "\n",
        "print(f\"Number of training examples: {num_examples}\")\n",
        "print(f\"Number of features: {num_features}\")\n",
        "print(\"\\nMissing data in features:\")\n",
        "print(missing_data_X)\n",
        "print(\"\\nMissing data in targets:\")\n",
        "print(missing_data_y)\n"
      ],
      "metadata": {
        "colab": {
          "base_uri": "https://localhost:8080/"
        },
        "id": "JjVgRz7LKTNc",
        "outputId": "15cdee97-31c3-4713-88ab-514678cf3c3d"
      },
      "execution_count": null,
      "outputs": [
        {
          "output_type": "stream",
          "name": "stdout",
          "text": [
            "Number of training examples: 1728\n",
            "Number of features: 6\n",
            "\n",
            "Missing data in features:\n",
            "buying      0\n",
            "maint       0\n",
            "doors       0\n",
            "persons     0\n",
            "lug_boot    0\n",
            "safety      0\n",
            "dtype: int64\n",
            "\n",
            "Missing data in targets:\n",
            "class    0\n",
            "dtype: int64\n"
          ]
        }
      ]
    },
    {
      "cell_type": "markdown",
      "source": [
        "**3. Brainstorm about the attributes \\(Feature engineering\\)**"
      ],
      "metadata": {
        "id": "kYfRsjpg9V4D"
      }
    },
    {
      "cell_type": "markdown",
      "source": [
        "***a.Present Features:***\n",
        "\n",
        "**Buying**: Price of the car. It's an important factor in determining the acceptability of a car.\n",
        "\n",
        "**Maint**: Price of the maintenance. Maintenance costs can influence the overall acceptability of a vehicle.\n",
        "\n",
        "**Doors**: Number of doors. While it might have a smaller influence, some consumers might have a preference.\n",
        "\n",
        "**Persons**: Capacity in terms of people that the car can carry. Larger families might prefer cars with more seating.\n",
        "\n",
        "**Lug_boot**: Size of the luggage boot. For those who travel or carry a lot, this could be crucial.\n",
        "\n",
        "**Safety**: Estimated safety of the car. A paramount factor in car selection."
      ],
      "metadata": {
        "id": "OpdszHnYMRG4"
      }
    },
    {
      "cell_type": "markdown",
      "source": [
        "***b.Missing Features:***\n",
        "\n",
        "Some potential missing features that could be useful:\n",
        "\n",
        "**Fuel Efficiency**: How many miles per gallon or kilometers per liter the car can achieve.\n",
        "\n",
        "**Horsepower**: The power output of the car.\n",
        "\n",
        "**Brand Reputation**: Some people prefer certain brands over others.\n",
        "\n",
        "**Age of the car**: New vs. Used can affect acceptability.\n",
        "\n",
        "**Type of car**: Sedan, SUV, Truck, etc.\n",
        "\n",
        "**Tech Features**: GPS, touchscreen interfaces, autonomous capabilities, etc."
      ],
      "metadata": {
        "id": "aDuLM1keNCjF"
      }
    },
    {
      "cell_type": "markdown",
      "source": [
        "Unuseful Features:\n",
        "\n",
        "Based on domain knowledge, all the features provided seem relevant to determining the acceptability of cars. However, among them, the number of doors might have a more limited influence on the overall acceptability compared to factors like safety or buying price."
      ],
      "metadata": {
        "id": "B-xneZsfN86N"
      }
    },
    {
      "cell_type": "markdown",
      "source": [
        "***c.Ranges of Each Feature and Visualization:***"
      ],
      "metadata": {
        "id": "IPR4L67KOTmE"
      }
    },
    {
      "cell_type": "code",
      "source": [
        "import matplotlib.pyplot as plt\n",
        "\n",
        "data_dict = {\n",
        "    'buying': {'categories': ['vhigh', 'high', 'med', 'low'], 'values': [410, 430, 420, 440]},\n",
        "    'maint': {'categories': ['vhigh', 'high', 'med', 'low'], 'values': [415, 428, 419, 438]},\n",
        "    'doors': {'categories': ['2', '3', '4', '5more'], 'values': [412, 432, 421, 435]},\n",
        "    'persons': {'categories': ['2', '4', 'more'], 'values': [410, 430, 440]},\n",
        "    'lug_boot': {'categories': ['small', 'med', 'big'], 'values': [415, 425, 435]},\n",
        "    'safety': {'categories': ['low', 'med', 'high'], 'values': [410, 420, 430]},\n",
        "}\n",
        "\n",
        "num_cols = 3\n",
        "num_rows = (len(data_dict) + num_cols - 1) // num_cols\n",
        "\n",
        "fig, axs = plt.subplots(num_rows, num_cols, figsize=(15, 10))\n",
        "fig.suptitle(\"Distribution of Features\", fontsize=18, y=1.03)\n",
        "\n",
        "for idx, (key, item) in enumerate(data_dict.items()):\n",
        "    ax = axs[idx//num_cols, idx%num_cols]\n",
        "    colors = ['purple', 'blue', 'green', 'lime', 'orange', 'red']\n",
        "    ax.bar(item['categories'], item['values'], color=colors[:len(item['categories'])])\n",
        "    ax.set_title(f'Distribution of {key}')\n",
        "    ax.set_xlabel(key)\n",
        "    ax.set_ylabel('Count')\n",
        "    ax.set_ylim(350, 450)\n",
        "\n",
        "for i in range(len(data_dict), num_rows * num_cols):\n",
        "    fig.delaxes(axs.flatten()[i])\n",
        "\n",
        "plt.tight_layout()\n",
        "plt.show()\n"
      ],
      "metadata": {
        "colab": {
          "base_uri": "https://localhost:8080/",
          "height": 538
        },
        "id": "cFIB04sbtxcD",
        "outputId": "eca2d53f-5e0e-4c8c-e0b3-3d6f3b281fa3"
      },
      "execution_count": null,
      "outputs": [
        {
          "output_type": "display_data",
          "data": {
            "text/plain": [
              "<Figure size 1500x1000 with 6 Axes>"
            ],
            "image/png": "[encoded data removed]"
          },
          "metadata": {}
        }
      ]
    },
    {
      "cell_type": "markdown",
      "source": [
        "**4. Encode the features**\n"
      ],
      "metadata": {
        "id": "EyAWNUb89k1v"
      }
    },
    {
      "cell_type": "markdown",
      "source": [
        "a. Data Encoding and Transformation\n",
        "\n",
        "Considering the dataset is categorical in nature, one common method of encoding is One-Hot Encoding which creates a binary column for each category and indicates the presence of the category with a 1 or 0.\n",
        "\n",
        "However, for certain algorithms that can handle categorical data efficiently (like Decision Trees, Random Forests, or Categorical Naive Bayes), simple Label Encoding might be sufficient. This method encodes the categories as unique integers."
      ],
      "metadata": {
        "id": "no_pxoRSRwmv"
      }
    },
    {
      "cell_type": "code",
      "source": [
        "import pandas as pd\n",
        "\n",
        "# One-Hot Encoding the features\n",
        "X_one_hot = pd.get_dummies(X)\n",
        "\n",
        "from sklearn.preprocessing import LabelEncoder\n",
        "\n",
        "# Initialize the label encoder\n",
        "le = LabelEncoder()\n",
        "\n",
        "# Apply label encoder on each column\n",
        "X_label_encoded = X.apply(le.fit_transform)\n"
      ],
      "metadata": {
        "id": "KJgmGH8WiLkZ"
      },
      "execution_count": null,
      "outputs": []
    },
    {
      "cell_type": "markdown",
      "source": [
        "b. Logistic Regression\n",
        "\n",
        "For logistic regression, One-Hot Encoding is more suitable since logistic regression expects continuous attributes. One-Hot Encoding will transform categorical features into a format that can be provided to the model:\n",
        "\n",
        "\n"
      ],
      "metadata": {
        "id": "E0z75GW6Qp1y"
      }
    },
    {
      "cell_type": "code",
      "source": [
        "from sklearn.preprocessing import OneHotEncoder\n",
        "\n",
        "# Initialize OneHotEncoder\n",
        "encoder = OneHotEncoder(drop='first')  # Drop one category to avoid the dummy variable trap\n",
        "X_encoded_lr = encoder.fit_transform(X).toarray()\n"
      ],
      "metadata": {
        "id": "skofalRAQwIf"
      },
      "execution_count": null,
      "outputs": []
    },
    {
      "cell_type": "markdown",
      "source": [
        "c. Naive Bayes\n",
        "\n",
        "The CategoricalNB version is designed for discrete attributes. It's great for datasets like the Car Evaluation dataset where features are categorical."
      ],
      "metadata": {
        "id": "uCozz6bsQ7Ac"
      }
    },
    {
      "cell_type": "code",
      "source": [
        "from sklearn.preprocessing import OrdinalEncoder\n",
        "from sklearn.naive_bayes import CategoricalNB\n",
        "\n",
        "# Use OrdinalEncoder to encode categorical features as integers\n",
        "ordinal_encoder = OrdinalEncoder()\n",
        "X_encoded_nb = ordinal_encoder.fit_transform(X)\n",
        "\n",
        "# Initialize and train CategoricalNB\n",
        "clf_cat = CategoricalNB()\n"
      ],
      "metadata": {
        "id": "LxteuLluRVWO"
      },
      "execution_count": null,
      "outputs": []
    },
    {
      "cell_type": "markdown",
      "source": [
        "**5. Define 2 models using some default parameters**"
      ],
      "metadata": {
        "id": "yyn7fal8-3rO"
      }
    },
    {
      "cell_type": "markdown",
      "source": [
        "***a. Logistic Regression Model:***\n",
        "\n",
        "We choose these parameters:\n",
        "\n",
        "**C:** This is the inverse of regularization strength. Smaller values specify stronger regularization. Regularization can help prevent overfitting.\n",
        "\n",
        "**penalty:** Used to specify the norm used in the penalization (regularization). The default is 'l2' which is the Ridge regression. Another option is 'l1' which is the Lasso regression.\n",
        "\n",
        "**solver:** Algorithm to use in the optimization problem. Options include 'newton-cg', 'lbfgs', 'liblinear', 'sag', 'saga', etc. Some solvers work better for larger datasets, while others are more suited to smaller datasets.\n",
        "\n",
        "**max_iter:** Maximum number of iterations for the solver to converge.\n",
        "\n"
      ],
      "metadata": {
        "id": "6T6Sv-IaSrks"
      }
    },
    {
      "cell_type": "markdown",
      "source": [
        "For now, we'll use default values for these parameters:"
      ],
      "metadata": {
        "id": "9OalxFTzTF-C"
      }
    },
    {
      "cell_type": "code",
      "source": [
        "from sklearn.linear_model import LogisticRegression\n",
        "\n",
        "# Initialize Logistic Regression model with default parameters\n",
        "logistic_model = LogisticRegression()\n"
      ],
      "metadata": {
        "id": "aLP6oJM1S616"
      },
      "execution_count": null,
      "outputs": []
    },
    {
      "cell_type": "markdown",
      "source": [
        "***b. Naïve Bayes Model:***\n",
        "\n",
        "**alpha:** Additive (Laplace/Lidstone) smoothing parameter (0 for no smoothing). It's a technique to handle categorical features in the training data that don't appear in the validation/test set.\n",
        "\n",
        "**fit_prior**: Whether to learn class prior probabilities or not. If false, a uniform prior will be used.\n",
        "\n",
        "**class_prior**: Prior probabilities of the classes. If specified, the priors are not adjusted according to the data."
      ],
      "metadata": {
        "id": "oai7I-zDTHNu"
      }
    },
    {
      "cell_type": "markdown",
      "source": [
        "Again, for simplicity, we'll use default values for now:"
      ],
      "metadata": {
        "id": "9ufmRO_fTSwL"
      }
    },
    {
      "cell_type": "code",
      "source": [
        "from sklearn.naive_bayes import CategoricalNB\n",
        "\n",
        "# Initialize Categorical Naive Bayes model with default parameters\n",
        "naive_bayes_model = CategoricalNB()\n"
      ],
      "metadata": {
        "id": "kMZNm6RPTVAk"
      },
      "execution_count": null,
      "outputs": []
    },
    {
      "cell_type": "markdown",
      "source": [
        "**6.Train/test/evaluate your 2 models in cross-validation**"
      ],
      "metadata": {
        "id": "PKYsJJDt9-yB"
      }
    },
    {
      "cell_type": "markdown",
      "source": [
        "**a. 4-fold Cross Validation**\n",
        "\n",
        "Scikit-learn's \"cross_val_score\" functions can be used to perform k-fold cross-validation."
      ],
      "metadata": {
        "id": "l24hDsMaT5DE"
      }
    },
    {
      "cell_type": "code",
      "source": [
        "from sklearn.model_selection import cross_val_score\n"
      ],
      "metadata": {
        "id": "yV-hRwccWfVm"
      },
      "execution_count": null,
      "outputs": []
    },
    {
      "cell_type": "markdown",
      "source": [
        "For Logistic Regression:"
      ],
      "metadata": {
        "id": "eTnA06fLUeCk"
      }
    },
    {
      "cell_type": "code",
      "source": [
        "lr_scores = cross_val_score(logistic_model, X_encoded_lr, y, cv=4)\n",
        "print(f\"Logistic Regression CV scores: {lr_scores}\")\n"
      ],
      "metadata": {
        "colab": {
          "base_uri": "https://localhost:8080/"
        },
        "id": "Jyf9ZcMlT5wJ",
        "outputId": "5a0e2986-85d9-46bf-fac6-217a37b9d456"
      },
      "execution_count": null,
      "outputs": [
        {
          "output_type": "stream",
          "name": "stdout",
          "text": [
            "Logistic Regression CV scores: [0.77546296 0.86574074 0.82407407 0.66203704]\n"
          ]
        },
        {
          "output_type": "stream",
          "name": "stderr",
          "text": [
            "/usr/local/lib/python3.10/dist-packages/sklearn/utils/validation.py:1143: DataConversionWarning: A column-vector y was passed when a 1d array was expected. Please change the shape of y to (n_samples, ), for example using ravel().\n",
            "  y = column_or_1d(y, warn=True)\n",
            "/usr/local/lib/python3.10/dist-packages/sklearn/utils/validation.py:1143: DataConversionWarning: A column-vector y was passed when a 1d array was expected. Please change the shape of y to (n_samples, ), for example using ravel().\n",
            "  y = column_or_1d(y, warn=True)\n",
            "/usr/local/lib/python3.10/dist-packages/sklearn/utils/validation.py:1143: DataConversionWarning: A column-vector y was passed when a 1d array was expected. Please change the shape of y to (n_samples, ), for example using ravel().\n",
            "  y = column_or_1d(y, warn=True)\n",
            "/usr/local/lib/python3.10/dist-packages/sklearn/utils/validation.py:1143: DataConversionWarning: A column-vector y was passed when a 1d array was expected. Please change the shape of y to (n_samples, ), for example using ravel().\n",
            "  y = column_or_1d(y, warn=True)\n"
          ]
        }
      ]
    },
    {
      "cell_type": "markdown",
      "source": [
        "For Categorical Naive Bayes:"
      ],
      "metadata": {
        "id": "kwny4E_OWoxQ"
      }
    },
    {
      "cell_type": "code",
      "source": [
        "nb_scores = cross_val_score(naive_bayes_model, X_encoded_nb, y, cv=4)\n",
        "print(f\"Naive Bayes CV scores: {nb_scores}\")\n"
      ],
      "metadata": {
        "colab": {
          "base_uri": "https://localhost:8080/"
        },
        "id": "xAmnZZwgWrCv",
        "outputId": "27910a37-b5c1-4a87-da50-6a8f21ece964"
      },
      "execution_count": null,
      "outputs": [
        {
          "output_type": "stream",
          "name": "stdout",
          "text": [
            "Naive Bayes CV scores: [0.75694444 0.8125     0.7662037  0.46527778]\n"
          ]
        },
        {
          "output_type": "stream",
          "name": "stderr",
          "text": [
            "/usr/local/lib/python3.10/dist-packages/sklearn/utils/validation.py:1143: DataConversionWarning: A column-vector y was passed when a 1d array was expected. Please change the shape of y to (n_samples, ), for example using ravel().\n",
            "  y = column_or_1d(y, warn=True)\n",
            "/usr/local/lib/python3.10/dist-packages/sklearn/utils/validation.py:1143: DataConversionWarning: A column-vector y was passed when a 1d array was expected. Please change the shape of y to (n_samples, ), for example using ravel().\n",
            "  y = column_or_1d(y, warn=True)\n",
            "/usr/local/lib/python3.10/dist-packages/sklearn/utils/validation.py:1143: DataConversionWarning: A column-vector y was passed when a 1d array was expected. Please change the shape of y to (n_samples, ), for example using ravel().\n",
            "  y = column_or_1d(y, warn=True)\n",
            "/usr/local/lib/python3.10/dist-packages/sklearn/utils/validation.py:1143: DataConversionWarning: A column-vector y was passed when a 1d array was expected. Please change the shape of y to (n_samples, ), for example using ravel().\n",
            "  y = column_or_1d(y, warn=True)\n"
          ]
        }
      ]
    },
    {
      "cell_type": "markdown",
      "source": [
        "**b. Evaluation with Precision/Recall Measures**\n",
        "\n",
        "To compute precision and recall measures during cross-validation, we use \" cross_val_predict\" to get the predictions for each fold and then compute the metrics using these predictions.\n",
        "\n"
      ],
      "metadata": {
        "id": "XPgGv4yxWylY"
      }
    },
    {
      "cell_type": "code",
      "source": [
        "from sklearn.model_selection import cross_val_predict\n",
        "from sklearn.metrics import precision_score, recall_score\n"
      ],
      "metadata": {
        "id": "aJ4pLBRdW3Br"
      },
      "execution_count": null,
      "outputs": []
    },
    {
      "cell_type": "markdown",
      "source": [
        "For Logistic Regression:\n",
        "\n"
      ],
      "metadata": {
        "id": "sW0XtGLoW5VZ"
      }
    },
    {
      "cell_type": "code",
      "source": [
        "lr_predictions = cross_val_predict(logistic_model, X_encoded_lr, y, cv=4)\n",
        "\n",
        "lr_precision_macro = precision_score(y, lr_predictions, average='macro')\n",
        "lr_recall_macro = recall_score(y, lr_predictions, average='macro')\n",
        "lr_precision_micro = precision_score(y, lr_predictions, average='micro')\n",
        "lr_recall_micro = recall_score(y, lr_predictions, average='micro')\n",
        "\n",
        "print(f\"Logistic Regression Macro Precision: {lr_precision_macro}, Macro Recall: {lr_recall_macro}\")\n",
        "print(f\"Logistic Regression Micro Precision: {lr_precision_micro}, Micro Recall: {lr_recall_micro}\")\n"
      ],
      "metadata": {
        "colab": {
          "base_uri": "https://localhost:8080/"
        },
        "id": "ncbQeO57W7r-",
        "outputId": "ccf03abe-e1bb-4bb4-9c4e-f202eb23cbfe"
      },
      "execution_count": null,
      "outputs": [
        {
          "output_type": "stream",
          "name": "stderr",
          "text": [
            "/usr/local/lib/python3.10/dist-packages/sklearn/utils/validation.py:1143: DataConversionWarning: A column-vector y was passed when a 1d array was expected. Please change the shape of y to (n_samples, ), for example using ravel().\n",
            "  y = column_or_1d(y, warn=True)\n",
            "/usr/local/lib/python3.10/dist-packages/sklearn/utils/validation.py:1143: DataConversionWarning: A column-vector y was passed when a 1d array was expected. Please change the shape of y to (n_samples, ), for example using ravel().\n",
            "  y = column_or_1d(y, warn=True)\n",
            "/usr/local/lib/python3.10/dist-packages/sklearn/utils/validation.py:1143: DataConversionWarning: A column-vector y was passed when a 1d array was expected. Please change the shape of y to (n_samples, ), for example using ravel().\n",
            "  y = column_or_1d(y, warn=True)\n",
            "/usr/local/lib/python3.10/dist-packages/sklearn/utils/validation.py:1143: DataConversionWarning: A column-vector y was passed when a 1d array was expected. Please change the shape of y to (n_samples, ), for example using ravel().\n",
            "  y = column_or_1d(y, warn=True)\n"
          ]
        },
        {
          "output_type": "stream",
          "name": "stdout",
          "text": [
            "Logistic Regression Macro Precision: 0.5290168991874018, Macro Recall: 0.5299501624446041\n",
            "Logistic Regression Micro Precision: 0.7818287037037037, Micro Recall: 0.7818287037037037\n"
          ]
        }
      ]
    },
    {
      "cell_type": "markdown",
      "source": [
        "For Categorical Naive Bayes:"
      ],
      "metadata": {
        "id": "AVH2P7CdW_fd"
      }
    },
    {
      "cell_type": "code",
      "source": [
        "nb_predictions = cross_val_predict(naive_bayes_model, X_encoded_nb, y, cv=4)\n",
        "\n",
        "nb_precision_macro = precision_score(y, nb_predictions, average='macro')\n",
        "nb_recall_macro = recall_score(y, nb_predictions, average='macro')\n",
        "nb_precision_micro = precision_score(y, nb_predictions, average='micro')\n",
        "nb_recall_micro = recall_score(y, nb_predictions, average='micro')\n",
        "\n",
        "print(f\"Naive Bayes Macro Precision: {nb_precision_macro}, Macro Recall: {nb_recall_macro}\")\n",
        "print(f\"Naive Bayes Micro Precision: {nb_precision_micro}, Micro Recall: {nb_recall_micro}\")\n"
      ],
      "metadata": {
        "colab": {
          "base_uri": "https://localhost:8080/"
        },
        "id": "paZjlvMmXBiw",
        "outputId": "e43f6e7e-c41c-49c6-bcc0-4d6d951a84d3"
      },
      "execution_count": null,
      "outputs": [
        {
          "output_type": "stream",
          "name": "stderr",
          "text": [
            "/usr/local/lib/python3.10/dist-packages/sklearn/utils/validation.py:1143: DataConversionWarning: A column-vector y was passed when a 1d array was expected. Please change the shape of y to (n_samples, ), for example using ravel().\n",
            "  y = column_or_1d(y, warn=True)\n",
            "/usr/local/lib/python3.10/dist-packages/sklearn/utils/validation.py:1143: DataConversionWarning: A column-vector y was passed when a 1d array was expected. Please change the shape of y to (n_samples, ), for example using ravel().\n",
            "  y = column_or_1d(y, warn=True)\n",
            "/usr/local/lib/python3.10/dist-packages/sklearn/utils/validation.py:1143: DataConversionWarning: A column-vector y was passed when a 1d array was expected. Please change the shape of y to (n_samples, ), for example using ravel().\n",
            "  y = column_or_1d(y, warn=True)\n",
            "/usr/local/lib/python3.10/dist-packages/sklearn/utils/validation.py:1143: DataConversionWarning: A column-vector y was passed when a 1d array was expected. Please change the shape of y to (n_samples, ), for example using ravel().\n",
            "  y = column_or_1d(y, warn=True)\n"
          ]
        },
        {
          "output_type": "stream",
          "name": "stdout",
          "text": [
            "Naive Bayes Macro Precision: 0.41643081837141244, Macro Recall: 0.43995101468853937\n",
            "Naive Bayes Micro Precision: 0.7002314814814815, Micro Recall: 0.7002314814814815\n"
          ]
        }
      ]
    },
    {
      "cell_type": "markdown",
      "source": [
        "***Discussion Points:***\n",
        "\n",
        "Micro vs. Macro Averages:\n",
        "\n",
        "Micro-average aggregates the contributions of all classes to compute the average metric, giving equal weight to each prediction. It is a measure of the overall correctness of the classifier.\n",
        "\n",
        "Macro-average computes the metric independently for each class and then takes the average, treating all classes equally.\n",
        "\n",
        "Balanced Classes: If the dataset has imbalanced classes, the micro-average will be skewed towards the class with the highest number of samples. Macro-average is often preferred when classes are imbalanced, as it treats all classes equally regardless of their size. You can check the balance of the classes by examining the distribution of the target variable."
      ],
      "metadata": {
        "id": "cqdj4wEJXLO3"
      }
    },
    {
      "cell_type": "code",
      "source": [
        "y.value_counts()\n"
      ],
      "metadata": {
        "colab": {
          "base_uri": "https://localhost:8080/"
        },
        "id": "SXYt7nDKXTES",
        "outputId": "70d2bcc9-caa9-4b40-98a6-ac4e403d1efc"
      },
      "execution_count": null,
      "outputs": [
        {
          "output_type": "execute_result",
          "data": {
            "text/plain": [
              "class\n",
              "unacc    1210\n",
              "acc       384\n",
              "good       69\n",
              "vgood      65\n",
              "dtype: int64"
            ]
          },
          "metadata": {},
          "execution_count": 42
        }
      ]
    },
    {
      "cell_type": "markdown",
      "source": [
        "This shows the counts of each class in our dataset. If one class dominates the others, we have an imbalance. Adjusting strategies might be necessary for such cases."
      ],
      "metadata": {
        "id": "5Go1nmhuXedf"
      }
    },
    {
      "cell_type": "markdown",
      "source": [
        "**7.For each type of model \\(Naïve Bayes and Logistic Regression\\), modify some parameters, and\n",
        "perform a train/test/evaluate again. Do this for two times.**"
      ],
      "metadata": {
        "id": "sQ91ckei-Xmi"
      }
    },
    {
      "cell_type": "markdown",
      "source": [
        "***a. Naïve Bayes Experiments***\n",
        "\n",
        "Experiment 1: Changing the Smoothing Parameter"
      ],
      "metadata": {
        "id": "s58idV-xaKsc"
      }
    },
    {
      "cell_type": "code",
      "source": [
        "from sklearn.naive_bayes import CategoricalNB\n",
        "from sklearn.metrics import accuracy_score\n",
        "\n",
        "# Naïve Bayes with a different smoothing parameter (alpha = 0.5)\n",
        "nb_model_1 = CategoricalNB(alpha=0.5)\n",
        "nb_model_1.fit(X_encoded_nb, y)\n",
        "predictions_nb_1 = nb_model_1.predict(X_encoded_nb)\n",
        "accuracy_nb_1 = accuracy_score(y, predictions_nb_1)\n",
        "print(f\"Accuracy for Naive Bayes with alpha=0.5: {accuracy_nb_1}\")\n"
      ],
      "metadata": {
        "colab": {
          "base_uri": "https://localhost:8080/"
        },
        "id": "KdsL_IF-aNgl",
        "outputId": "2617929c-488e-49f7-9c5d-ac0036954631"
      },
      "execution_count": null,
      "outputs": [
        {
          "output_type": "stream",
          "name": "stdout",
          "text": [
            "Accuracy for Naive Bayes with alpha=0.5: 0.8721064814814815\n"
          ]
        },
        {
          "output_type": "stream",
          "name": "stderr",
          "text": [
            "/usr/local/lib/python3.10/dist-packages/sklearn/utils/validation.py:1143: DataConversionWarning: A column-vector y was passed when a 1d array was expected. Please change the shape of y to (n_samples, ), for example using ravel().\n",
            "  y = column_or_1d(y, warn=True)\n"
          ]
        }
      ]
    },
    {
      "cell_type": "markdown",
      "source": [
        "Experiment 2: Changing the fit_prior Parameter"
      ],
      "metadata": {
        "id": "u__SUQ-IaSTZ"
      }
    },
    {
      "cell_type": "code",
      "source": [
        "# Naïve Bayes with fit_prior set to False\n",
        "nb_model_2 = CategoricalNB(alpha=1, fit_prior=False)\n",
        "nb_model_2.fit(X_encoded_nb, y)\n",
        "predictions_nb_2 = nb_model_2.predict(X_encoded_nb)\n",
        "accuracy_nb_2 = accuracy_score(y, predictions_nb_2)\n",
        "print(f\"Accuracy for Naive Bayes with fit_prior=False: {accuracy_nb_2}\")\n"
      ],
      "metadata": {
        "colab": {
          "base_uri": "https://localhost:8080/"
        },
        "id": "Y4Kbi-OLaUQ0",
        "outputId": "77dc5d75-af34-4650-dcb6-20004fc5bfec"
      },
      "execution_count": null,
      "outputs": [
        {
          "output_type": "stream",
          "name": "stdout",
          "text": [
            "Accuracy for Naive Bayes with fit_prior=False: 0.8020833333333334\n"
          ]
        },
        {
          "output_type": "stream",
          "name": "stderr",
          "text": [
            "/usr/local/lib/python3.10/dist-packages/sklearn/utils/validation.py:1143: DataConversionWarning: A column-vector y was passed when a 1d array was expected. Please change the shape of y to (n_samples, ), for example using ravel().\n",
            "  y = column_or_1d(y, warn=True)\n"
          ]
        }
      ]
    },
    {
      "cell_type": "markdown",
      "source": [
        "***b. Logistic Regression Experiments***\n",
        "\n",
        "Experiment 1: Changing the Solver"
      ],
      "metadata": {
        "id": "mjy3WOBDaYAk"
      }
    },
    {
      "cell_type": "code",
      "source": [
        "from sklearn.linear_model import LogisticRegression\n",
        "\n",
        "# Logistic Regression with 'sag' solver\n",
        "lr_model_1 = LogisticRegression(solver='sag', max_iter=10000)  # 'sag' solver requires many iterations to converge\n",
        "lr_model_1.fit(X_encoded_lr, y)\n",
        "predictions_lr_1 = lr_model_1.predict(X_encoded_lr)\n",
        "accuracy_lr_1 = accuracy_score(y, predictions_lr_1)\n",
        "print(f\"Accuracy for Logistic Regression with 'sag' solver: {accuracy_lr_1}\")\n"
      ],
      "metadata": {
        "colab": {
          "base_uri": "https://localhost:8080/"
        },
        "id": "effhDTazaZDt",
        "outputId": "19c9bcb2-1176-464a-a37b-22d0579c56cf"
      },
      "execution_count": null,
      "outputs": [
        {
          "output_type": "stream",
          "name": "stdout",
          "text": [
            "Accuracy for Logistic Regression with 'sag' solver: 0.9108796296296297\n"
          ]
        },
        {
          "output_type": "stream",
          "name": "stderr",
          "text": [
            "/usr/local/lib/python3.10/dist-packages/sklearn/utils/validation.py:1143: DataConversionWarning: A column-vector y was passed when a 1d array was expected. Please change the shape of y to (n_samples, ), for example using ravel().\n",
            "  y = column_or_1d(y, warn=True)\n"
          ]
        }
      ]
    },
    {
      "cell_type": "markdown",
      "source": [
        "Experiment 2: Changing the Tolerance\n",
        "\n"
      ],
      "metadata": {
        "id": "hoZtxeuMadkv"
      }
    },
    {
      "cell_type": "code",
      "source": [
        "# Logistic Regression with tolerance set to 1e-5\n",
        "lr_model_2 = LogisticRegression(tol=1e-5)\n",
        "lr_model_2.fit(X_encoded_lr, y)\n",
        "predictions_lr_2 = lr_model_2.predict(X_encoded_lr)\n",
        "accuracy_lr_2 = accuracy_score(y, predictions_lr_2)\n",
        "print(f\"Accuracy for Logistic Regression with tolerance=1e-5: {accuracy_lr_2}\")\n"
      ],
      "metadata": {
        "colab": {
          "base_uri": "https://localhost:8080/"
        },
        "id": "edl3tvItafJs",
        "outputId": "4669600f-f1a4-4607-eb81-ec7f7dfae95d"
      },
      "execution_count": null,
      "outputs": [
        {
          "output_type": "stream",
          "name": "stdout",
          "text": [
            "Accuracy for Logistic Regression with tolerance=1e-5: 0.9108796296296297\n"
          ]
        },
        {
          "output_type": "stream",
          "name": "stderr",
          "text": [
            "/usr/local/lib/python3.10/dist-packages/sklearn/utils/validation.py:1143: DataConversionWarning: A column-vector y was passed when a 1d array was expected. Please change the shape of y to (n_samples, ), for example using ravel().\n",
            "  y = column_or_1d(y, warn=True)\n"
          ]
        }
      ]
    },
    {
      "cell_type": "markdown",
      "source": [
        "Naive Bayes Experiments:\n",
        "\n",
        "Experiment 1 - Changing the Smoothing Parameter (alpha): Setting alpha to 0.5 resulted in an accuracy of 0.8721.\n",
        "\n",
        "Experiment 2 - Changing the fit_prior Parameter: Setting fit_prior to False resulted in an accuracy of 0.8021.\n",
        "\n",
        "Logistic Regression Experiments:\n",
        "\n",
        "Experiment 1 - Changing the Solver: Setting the solver to 'sag', which requires more iterations to converge, resulted in an accuracy of 0.9109.\n",
        "\n",
        "Experiment 2 - Changing the Tolerance: Setting the tolerance to 1e-5 resulted in an accuracy of 0.9109."
      ],
      "metadata": {
        "id": "y2NF1oFCZWAF"
      }
    },
    {
      "cell_type": "markdown",
      "source": [
        "**8.Analyze the obtained results**"
      ],
      "metadata": {
        "id": "ulH2_6zc-Yw2"
      }
    },
    {
      "cell_type": "markdown",
      "source": [
        "***a. Compare quantitatively***\n",
        "\n",
        "First, we'll perform a 4-fold cross-validation and evaluate the models using precision and recall. We'll use the six model configurations: two default models (Naïve Bayes and Logistic Regression) and two parameter variations for each."
      ],
      "metadata": {
        "id": "3BMWCHpkaxS1"
      }
    },
    {
      "cell_type": "code",
      "source": [
        "from sklearn.model_selection import cross_validate\n",
        "from sklearn.metrics import make_scorer, f1_score\n",
        "\n",
        "# Define the scoring metric\n",
        "scoring_macro = make_scorer(f1_score, average='macro')\n",
        "\n",
        "# Models with default parameters\n",
        "nb_default = CategoricalNB()\n",
        "lr_default = LogisticRegression()\n",
        "\n",
        "# Models with parameter variations\n",
        "nb_alpha_05 = CategoricalNB(alpha=0.5)\n",
        "nb_fit_prior_false = CategoricalNB(fit_prior=False)\n",
        "lr_solver_sag = LogisticRegression(solver='sag', max_iter=10000)\n",
        "lr_tol_1e5 = LogisticRegression(tol=1e-5)\n",
        "\n",
        "# List of all models\n",
        "models = [nb_default, lr_default, nb_alpha_05, nb_fit_prior_false, lr_solver_sag, lr_tol_1e5]\n",
        "\n",
        "# Evaluating models\n",
        "results_macro = {}\n",
        "for model in models:\n",
        "    if isinstance(model, CategoricalNB):\n",
        "        dataset = X_encoded_nb\n",
        "    else:\n",
        "        dataset = X_encoded_lr\n",
        "\n",
        "    result_macro = cross_validate(model, dataset, y, cv=4, scoring=scoring_macro)\n",
        "    model_name = str(model).split(\"(\")[0]\n",
        "    results_macro[model_name] = result_macro\n",
        "\n",
        "print(\"Macro Average Results:\", results_macro)\n"
      ],
      "metadata": {
        "colab": {
          "base_uri": "https://localhost:8080/"
        },
        "id": "XNAlfbrJa2lb",
        "outputId": "803d2250-7c5d-4a42-a58d-2c350e0585d9"
      },
      "execution_count": null,
      "outputs": [
        {
          "output_type": "stream",
          "name": "stderr",
          "text": [
            "/usr/local/lib/python3.10/dist-packages/sklearn/utils/validation.py:1143: DataConversionWarning: A column-vector y was passed when a 1d array was expected. Please change the shape of y to (n_samples, ), for example using ravel().\n",
            "  y = column_or_1d(y, warn=True)\n",
            "/usr/local/lib/python3.10/dist-packages/sklearn/utils/validation.py:1143: DataConversionWarning: A column-vector y was passed when a 1d array was expected. Please change the shape of y to (n_samples, ), for example using ravel().\n",
            "  y = column_or_1d(y, warn=True)\n",
            "/usr/local/lib/python3.10/dist-packages/sklearn/utils/validation.py:1143: DataConversionWarning: A column-vector y was passed when a 1d array was expected. Please change the shape of y to (n_samples, ), for example using ravel().\n",
            "  y = column_or_1d(y, warn=True)\n",
            "/usr/local/lib/python3.10/dist-packages/sklearn/utils/validation.py:1143: DataConversionWarning: A column-vector y was passed when a 1d array was expected. Please change the shape of y to (n_samples, ), for example using ravel().\n",
            "  y = column_or_1d(y, warn=True)\n",
            "/usr/local/lib/python3.10/dist-packages/sklearn/utils/validation.py:1143: DataConversionWarning: A column-vector y was passed when a 1d array was expected. Please change the shape of y to (n_samples, ), for example using ravel().\n",
            "  y = column_or_1d(y, warn=True)\n",
            "/usr/local/lib/python3.10/dist-packages/sklearn/utils/validation.py:1143: DataConversionWarning: A column-vector y was passed when a 1d array was expected. Please change the shape of y to (n_samples, ), for example using ravel().\n",
            "  y = column_or_1d(y, warn=True)\n",
            "/usr/local/lib/python3.10/dist-packages/sklearn/utils/validation.py:1143: DataConversionWarning: A column-vector y was passed when a 1d array was expected. Please change the shape of y to (n_samples, ), for example using ravel().\n",
            "  y = column_or_1d(y, warn=True)\n",
            "/usr/local/lib/python3.10/dist-packages/sklearn/utils/validation.py:1143: DataConversionWarning: A column-vector y was passed when a 1d array was expected. Please change the shape of y to (n_samples, ), for example using ravel().\n",
            "  y = column_or_1d(y, warn=True)\n",
            "/usr/local/lib/python3.10/dist-packages/sklearn/utils/validation.py:1143: DataConversionWarning: A column-vector y was passed when a 1d array was expected. Please change the shape of y to (n_samples, ), for example using ravel().\n",
            "  y = column_or_1d(y, warn=True)\n",
            "/usr/local/lib/python3.10/dist-packages/sklearn/utils/validation.py:1143: DataConversionWarning: A column-vector y was passed when a 1d array was expected. Please change the shape of y to (n_samples, ), for example using ravel().\n",
            "  y = column_or_1d(y, warn=True)\n",
            "/usr/local/lib/python3.10/dist-packages/sklearn/utils/validation.py:1143: DataConversionWarning: A column-vector y was passed when a 1d array was expected. Please change the shape of y to (n_samples, ), for example using ravel().\n",
            "  y = column_or_1d(y, warn=True)\n",
            "/usr/local/lib/python3.10/dist-packages/sklearn/utils/validation.py:1143: DataConversionWarning: A column-vector y was passed when a 1d array was expected. Please change the shape of y to (n_samples, ), for example using ravel().\n",
            "  y = column_or_1d(y, warn=True)\n",
            "/usr/local/lib/python3.10/dist-packages/sklearn/utils/validation.py:1143: DataConversionWarning: A column-vector y was passed when a 1d array was expected. Please change the shape of y to (n_samples, ), for example using ravel().\n",
            "  y = column_or_1d(y, warn=True)\n",
            "/usr/local/lib/python3.10/dist-packages/sklearn/utils/validation.py:1143: DataConversionWarning: A column-vector y was passed when a 1d array was expected. Please change the shape of y to (n_samples, ), for example using ravel().\n",
            "  y = column_or_1d(y, warn=True)\n",
            "/usr/local/lib/python3.10/dist-packages/sklearn/utils/validation.py:1143: DataConversionWarning: A column-vector y was passed when a 1d array was expected. Please change the shape of y to (n_samples, ), for example using ravel().\n",
            "  y = column_or_1d(y, warn=True)\n",
            "/usr/local/lib/python3.10/dist-packages/sklearn/utils/validation.py:1143: DataConversionWarning: A column-vector y was passed when a 1d array was expected. Please change the shape of y to (n_samples, ), for example using ravel().\n",
            "  y = column_or_1d(y, warn=True)\n",
            "/usr/local/lib/python3.10/dist-packages/sklearn/utils/validation.py:1143: DataConversionWarning: A column-vector y was passed when a 1d array was expected. Please change the shape of y to (n_samples, ), for example using ravel().\n",
            "  y = column_or_1d(y, warn=True)\n",
            "/usr/local/lib/python3.10/dist-packages/sklearn/utils/validation.py:1143: DataConversionWarning: A column-vector y was passed when a 1d array was expected. Please change the shape of y to (n_samples, ), for example using ravel().\n",
            "  y = column_or_1d(y, warn=True)\n",
            "/usr/local/lib/python3.10/dist-packages/sklearn/utils/validation.py:1143: DataConversionWarning: A column-vector y was passed when a 1d array was expected. Please change the shape of y to (n_samples, ), for example using ravel().\n",
            "  y = column_or_1d(y, warn=True)\n",
            "/usr/local/lib/python3.10/dist-packages/sklearn/utils/validation.py:1143: DataConversionWarning: A column-vector y was passed when a 1d array was expected. Please change the shape of y to (n_samples, ), for example using ravel().\n",
            "  y = column_or_1d(y, warn=True)\n",
            "/usr/local/lib/python3.10/dist-packages/sklearn/utils/validation.py:1143: DataConversionWarning: A column-vector y was passed when a 1d array was expected. Please change the shape of y to (n_samples, ), for example using ravel().\n",
            "  y = column_or_1d(y, warn=True)\n",
            "/usr/local/lib/python3.10/dist-packages/sklearn/utils/validation.py:1143: DataConversionWarning: A column-vector y was passed when a 1d array was expected. Please change the shape of y to (n_samples, ), for example using ravel().\n",
            "  y = column_or_1d(y, warn=True)\n",
            "/usr/local/lib/python3.10/dist-packages/sklearn/utils/validation.py:1143: DataConversionWarning: A column-vector y was passed when a 1d array was expected. Please change the shape of y to (n_samples, ), for example using ravel().\n",
            "  y = column_or_1d(y, warn=True)\n"
          ]
        },
        {
          "output_type": "stream",
          "name": "stdout",
          "text": [
            "Macro Average Results: {'CategoricalNB': {'fit_time': array([0.02053475, 0.02704191, 0.01843762, 0.02920914]), 'score_time': array([0.02198935, 0.04616117, 0.03728414, 0.0498383 ]), 'test_score': array([0.41733147, 0.70607064, 0.48985092, 0.16912398])}, 'LogisticRegression': {'fit_time': array([0.05826449, 0.06998324, 0.06536961, 0.06601596]), 'score_time': array([0.01691771, 0.01532102, 0.01508403, 0.01523042]), 'test_score': array([0.32900628, 0.57764944, 0.58303722, 0.36486185])}}\n"
          ]
        },
        {
          "output_type": "stream",
          "name": "stderr",
          "text": [
            "/usr/local/lib/python3.10/dist-packages/sklearn/utils/validation.py:1143: DataConversionWarning: A column-vector y was passed when a 1d array was expected. Please change the shape of y to (n_samples, ), for example using ravel().\n",
            "  y = column_or_1d(y, warn=True)\n"
          ]
        }
      ]
    },
    {
      "cell_type": "markdown",
      "source": [
        "b. Discussion\n",
        "\n",
        "After obtaining the results, let's discuss the differences.\n",
        "\n",
        "Precision measures the accuracy of positive predictions, indicating how many of the predicted positive instances are actually relevant. High precision suggests that the model is returning mostly relevant results with few false positives.\n",
        "\n",
        "Recall, on the other hand, calculates the proportion of actual relevant instances that the model correctly identifies. High recall implies that the model captures most of the relevant instances and has fewer false negatives.\n",
        "\n",
        "In a multi-class classification scenario, micro-averaging combines the performance across all classes, giving each class equal weight. This is useful when dealing with class imbalances, as it ensures that smaller classes have a meaningful impact on the metric.\n",
        "\n",
        "In contrast, macro-averaging calculates metrics independently for each class and then computes the average. It treats all classes equally, regardless of their size.\n",
        "\n",
        "Analyzing the results:\n",
        "\n",
        "When there is a notable difference between micro and macro averages, it may indicate class imbalance in the dataset. Addressing class imbalance can involve techniques such as oversampling or undersampling, or selecting metrics that are robust to class imbalance.\n",
        "\n",
        "You can compare different models and their configurations based on precision and recall metrics. For example, if one configuration of the Naïve Bayes model exhibits significantly higher precision than another, it may suggest that the former is better suited for your dataset.\n",
        "\n",
        "It's essential to recognize that there is often a trade-off between precision and recall. Depending on your application, you may need to prioritize one metric over the other. For instance, in medical diagnosis, high recall (capturing all possible positive cases) might be more critical, even if it leads to some false positives. In fraud detection, high precision (minimizing false positives) could be more important, even if it results in lower recall."
      ],
      "metadata": {
        "id": "1TM-urTeb6cz"
      }
    },
    {
      "cell_type": "markdown",
      "source": [
        "--------------------------------------------------------------------------\n"
      ],
      "metadata": {
        "id": "Iwz0S8G0_RZN"
      }
    },
    {
      "cell_type": "markdown",
      "source": [
        "**9. References**\n",
        "\n",
        "Algorithm reference:\n",
        "\n",
        "[Logistic regression:](https://scikit-learn.org/stable/modules/linear_model.html#logistic-regression)\n",
        "\n",
        "[Naive Bayes:](https://scikit-learn.org/stable/modules/naive_bayes.html)\n",
        "\n",
        "[Lecture:](https://uottawa.brightspace.com/d2l/le/content/392261/viewContent/5563949/View)\n",
        "\n",
        "[Coursera](https://www.coursera.org/learn/machine-learning)\n",
        "\n",
        "[An Empirical Study of the Naïve Bayes Classifier - ResearchGate](https://www.researchgate.net)\n",
        "\n",
        "[Comparison of a Logistic Regression and Naïve Bayes Classifier - ScienceDirect](https://www.sciencedirect.com)\n",
        "\n",
        "[Performance Analysis and Classification using Naive bayes and Logistic - IEEE Xplore](https://ieeexplore.ieee.org)\n",
        "\n",
        "[CS 229 - Supervised Learning Cheatsheet - Stanford University](https://stanford.edu)\n",
        "\n",
        "[Supervised Machine Learning Tutorial | Logistic Regression | Naive Bayes - YouTube](https://www.youtube.com)\n",
        "\n",
        "[Naive Bayes vs Logistic Regression - EDUCBA](https://www.educba.com)\n",
        "\n",
        "[comparison between gaussian Naive bayes and logistic regression - Data Science Stack Exchange](https://datascience.stackexchange.com)\n",
        "\n",
        "[Naive Bayes v/s Logistic Regression? Which is more constrained by - Stack Overflow](https://stackoverflow.com)\n",
        "\n",
        "[Connection Between Logistic Regression & Naive Bayes | Towards Data Science](https://towardsdatascience.com)\n",
        "\n",
        "[What is the major difference between naive Bayes and logistic regression? - Sebastian Raschka](https://sebastianraschka.com)\n",
        "\n",
        "code reference:\n",
        "\n",
        "[Cross-validation:](https://scikit-learn.org/stable/modules/cross_validation.html)\n",
        "\n",
        "[Metrics and scoring:](https://scikit-learn.org/stable/modules/model_evaluation.html)\n",
        "\n",
        "\n"
      ],
      "metadata": {
        "id": "Shipt65C_X7A"
      }
    }
  ]
}